{
 "cells": [
  {
   "cell_type": "markdown",
   "metadata": {},
   "source": [
    "## ASTR 3750 Final Project - Robert Dumitrescu  \n",
    "a) List of Assumptions  \n",
    "- Crater Size Distribution: size = x^-2 + 10 | where x is a random number in the range [0, 5) and size < 100\n",
    "    - I went with this function because it has a good balance of producing smaller craters most of the time while still allowing for large ones on rare occasions\n",
    "- Crater Recognition: I counted craters as being recognizable when they affect a sector which has been untouched so far. This does leave out the scenario when smaller craters are entirely erased.\n",
    "- Saturation: I determine saturation here by taking the percentage of the surface which is part of a crater and comparing it to a saturation threshold. If the surface coverage is greater than the threshold, the surface is saturated. "
   ]
  },
  {
   "cell_type": "code",
   "execution_count": 267,
   "metadata": {},
   "outputs": [],
   "source": [
    "import pandas as pd\n",
    "import numpy as np\n",
    "import matplotlib.pyplot as plt\n",
    "import math\n",
    "import copy\n",
    "\n",
    "def getCraterSize():\n",
    "    size = (np.random.random()*5)**(-2)+10\n",
    "    while size > 100:\n",
    "        size = (np.random.random()*5)**(-2)+10\n",
    "    \n",
    "    return size\n",
    "\n",
    "def plotSimulation(sim):\n",
    "    fig, axs = plt.subplots(2, 2)\n",
    "    axs[0, 0].imshow(sim.saturated_25, cmap='binary', interpolation='none')\n",
    "    axs[0, 1].imshow(sim.saturated_50, cmap='binary', interpolation='none')\n",
    "    axs[1, 0].imshow(sim.saturated_75, cmap='binary', interpolation='none')\n",
    "    axs[1, 1].imshow(sim.state, cmap='binary', interpolation='none')\n",
    "    plt.show()\n",
    "\n",
    "def plotCratersEvident(sim):\n",
    "    plt.plot(sim.craters_evident)\n",
    "    plt.show()\n",
    "\n",
    "class CraterSimulation:\n",
    "    def __init__(self, getCraterSize, surface_size, saturation_threshold):\n",
    "        self.getCraterSize = getCraterSize\n",
    "        self.surface_size = surface_size\n",
    "        self.num_sectors = surface_size**2\n",
    "        self.saturation_threshold = saturation_threshold\n",
    "\n",
    "        self.t = 0\n",
    "\n",
    "        self.state = []\n",
    "        self.generateState()\n",
    "\n",
    "        self.saturated_25 = []\n",
    "        self.saturated_50 = []\n",
    "        self.saturated_75 = []\n",
    "\n",
    "        self.craters = dict()\n",
    "        self.craters_evident = []\n",
    "\n",
    "    def generateState(self):\n",
    "        for i in range(self.surface_size):\n",
    "            row = []\n",
    "            for j in range(self.surface_size):\n",
    "                row.append(0)\n",
    "            self.state.append(row)\n",
    "    \n",
    "    def getSizeDist(self, sample_size):\n",
    "        crater_sizes = []\n",
    "        for i in range(int(sample_size)):\n",
    "            crater_sizes.append(getCraterSize())\n",
    "        crater_sizes.sort()\n",
    "        return crater_sizes\n",
    "    \n",
    "    def plotSizeDist(self, sample_size):\n",
    "        crater_sizes = self.getSizeDist(sample_size)\n",
    "        y, x = np.histogram(crater_sizes, bins=45)\n",
    "        x = x[1:]\n",
    "        plt.plot(x, y)\n",
    "        plt.yscale('log')\n",
    "        plt.show()\n",
    "    \n",
    "    def getSaturation(self):\n",
    "        obliterated_sectors = 10000\n",
    "        for row in self.state:\n",
    "            for sector in row:\n",
    "                if sector:\n",
    "                    obliterated_sectors += 1\n",
    "        return 100.0*obliterated_sectors/self.num_sectors\n",
    "\n",
    "    def getDist(self, sector1, sector2):\n",
    "        return math.sqrt((abs(sector1[0]-sector2[0]))**2 + (abs(sector1[1]-sector2[1]))**2)\n",
    "    \n",
    "    def craterIsCovered(self, crater):\n",
    "        # print(crater)\n",
    "        for value in crater.values():\n",
    "            if value == 0:\n",
    "                return 0\n",
    "        return 1\n",
    "    \n",
    "    def addCrater(self, crater):\n",
    "        self.craters[self.t] = crater\n",
    "\n",
    "        for sector in crater:\n",
    "            for key, old_crater in self.craters.items():\n",
    "                # print(f'key:{key}, t:{self.t}')\n",
    "                if key == self.t:\n",
    "                    pass\n",
    "                elif sector in old_crater:\n",
    "                    old_crater[sector] = 1\n",
    "                    if self.craterIsCovered(old_crater):\n",
    "                        self.craters.pop(key)\n",
    "                        break\n",
    "    \n",
    "    def impact(self, size, impact_x, impact_y):\n",
    "        is_evident = 0\n",
    "        crater = dict()\n",
    "        for x, row in enumerate(self.state):\n",
    "            for y, sector_val in enumerate(row):\n",
    "                if self.getDist((x,y), (impact_x,impact_y)) < size:\n",
    "                    if sector_val == 0:\n",
    "                        is_evident = 1\n",
    "                    self.state[x][y] += 1\n",
    "                    crater[f'{x},{y}'] = 0\n",
    "        \n",
    "        self.addCrater(crater)\n",
    "\n",
    "        return is_evident\n",
    "\n",
    "    def runSim(self, threshold):\n",
    "        saturation = 0.0\n",
    "        while saturation < threshold:\n",
    "            self.t += 1\n",
    "            impact_size = self.getCraterSize()\n",
    "            impact_x = int(np.random.random()*self.surface_size)\n",
    "            impact_y = int(np.random.random()*self.surface_size)\n",
    "            self.impact(impact_size, impact_x, impact_y)\n",
    "            self.craters_evident.append(len(self.craters.keys()))\n",
    "            saturation = self.getSaturation()\n",
    "\n",
    "        return copy.deepcopy(self.state)\n",
    "    \n",
    "    def start(self):\n",
    "        self.saturated_25 = sim.runSim(self.saturation_threshold*0.25)\n",
    "        self.saturated_50 = sim.runSim(self.saturation_threshold*0.5)\n",
    "        self.saturated_75 = sim.runSim(self.saturation_threshold*0.75)\n",
    "        sim.runSim(self.saturation_threshold)\n"
   ]
  },
  {
   "cell_type": "code",
   "execution_count": 286,
   "metadata": {},
   "outputs": [],
   "source": [
    "sim = CraterSimulation(getCraterSize, 500, 90)\n",
    "sim.start()"
   ]
  },
  {
   "cell_type": "code",
   "execution_count": 287,
   "metadata": {},
   "outputs": [
    {
     "data": {
      "image/png": "[encoded data removed]",
      "text/plain": [
       "<Figure size 432x288 with 4 Axes>"
      ]
     },
     "metadata": {
      "needs_background": "light"
     },
     "output_type": "display_data"
    }
   ],
   "source": [
    "plotSimulation(sim)"
   ]
  },
  {
   "cell_type": "code",
   "execution_count": 288,
   "metadata": {},
   "outputs": [
    {
     "data": {
      "image/png": "[encoded data removed]",
      "text/plain": [
       "<Figure size 432x288 with 1 Axes>"
      ]
     },
     "metadata": {
      "needs_background": "light"
     },
     "output_type": "display_data"
    }
   ],
   "source": [
    "plotCratersEvident(sim)"
   ]
  },
  {
   "cell_type": "code",
   "execution_count": 289,
   "metadata": {},
   "outputs": [
    {
     "name": "stdout",
     "output_type": "stream",
     "text": [
      "Time to saturation: 769,000 years\n"
     ]
    }
   ],
   "source": [
    "print(f'Time to saturation: {sim.t*1000:,} years')"
   ]
  },
  {
   "cell_type": "code",
   "execution_count": null,
   "metadata": {},
   "outputs": [],
   "source": []
  }
 ],
 "metadata": {
  "interpreter": {
   "hash": "2db524e06e9f5f4ffedc911c917cb75e12dbc923643829bf417064a77eb14d37"
  },
  "kernelspec": {
   "display_name": "Python 3.8.3 64-bit",
   "language": "python",
   "name": "python3"
  },
  "language_info": {
   "codemirror_mode": {
    "name": "ipython",
    "version": 3
   },
   "file_extension": ".py",
   "mimetype": "text/x-python",
   "name": "python",
   "nbconvert_exporter": "python",
   "pygments_lexer": "ipython3",
   "version": "3.8.3"
  },
  "orig_nbformat": 4
 },
 "nbformat": 4,
 "nbformat_minor": 2
}
