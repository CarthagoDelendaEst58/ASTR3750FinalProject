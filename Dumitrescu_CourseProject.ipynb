{
 "cells": [
  {
   "cell_type": "code",
   "execution_count": 1,
   "metadata": {},
   "outputs": [],
   "source": [
    "import pandas as pd\n",
    "import numpy as np\n",
    "import matplotlib.pyplot as plt"
   ]
  },
  {
   "cell_type": "code",
   "execution_count": 24,
   "metadata": {},
   "outputs": [],
   "source": [
    "import matplotlib.pyplot as plt"
   ]
  },
  {
   "cell_type": "code",
   "execution_count": 2,
   "metadata": {},
   "outputs": [],
   "source": [
    "def getCraterSize():\n",
    "    size = (np.random.random()*5)**(-2)+10\n",
    "    while size > 100:\n",
    "        size = (np.random.random()*8)**(-2)+10\n",
    "    \n",
    "    return size"
   ]
  },
  {
   "cell_type": "code",
   "execution_count": 42,
   "metadata": {},
   "outputs": [],
   "source": [
    "sample_size = 10000"
   ]
  },
  {
   "cell_type": "code",
   "execution_count": 28,
   "metadata": {},
   "outputs": [],
   "source": []
  },
  {
   "cell_type": "code",
   "execution_count": 29,
   "metadata": {},
   "outputs": [
    {
     "data": {
      "image/png": "[encoded data removed]",
      "text/plain": [
       "<Figure size 432x288 with 1 Axes>"
      ]
     },
     "metadata": {
      "needs_background": "light"
     },
     "output_type": "display_data"
    }
   ],
   "source": [
    "plt.plot(crater_sizes)\n",
    "plt.show()"
   ]
  },
  {
   "cell_type": "code",
   "execution_count": 32,
   "metadata": {},
   "outputs": [
    {
     "data": {
      "image/png": "[encoded data removed]",
      "text/plain": [
       "<Figure size 432x288 with 1 Axes>"
      ]
     },
     "metadata": {
      "needs_background": "light"
     },
     "output_type": "display_data"
    }
   ],
   "source": [
    "plt.hist(crater_sizes, 45)\n",
    "plt.axis([10, 100, 0, 1000])\n",
    "plt.show()"
   ]
  },
  {
   "cell_type": "code",
   "execution_count": null,
   "metadata": {},
   "outputs": [],
   "source": []
  },
  {
   "cell_type": "code",
   "execution_count": 44,
   "metadata": {},
   "outputs": [
    {
     "data": {
      "image/png": "[encoded data removed]",
      "text/plain": [
       "<Figure size 432x288 with 1 Axes>"
      ]
     },
     "metadata": {
      "needs_background": "light"
     },
     "output_type": "display_data"
    }
   ],
   "source": [
    "crater_sizes = []\n",
    "for i in range(sample_size):\n",
    "    crater_sizes.append(getCraterSize())\n",
    "crater_sizes.sort()\n",
    "y, x = np.histogram(crater_sizes, bins=45)\n",
    "x = x[1:]\n",
    "plt.plot(x, y)\n",
    "plt.yscale('log')\n",
    "plt.show()"
   ]
  },
  {
   "cell_type": "code",
   "execution_count": 23,
   "metadata": {},
   "outputs": [],
   "source": [
    "class CraterSimulation:\n",
    "    def __init__(self, getCraterSize, surface_size, saturation_threshold):\n",
    "        self.getCraterSize = getCraterSize\n",
    "        self.surface_size = surface_size\n",
    "        self.num_sectors = surface_size**2\n",
    "        self.saturation_threshold = saturation_threshold\n",
    "\n",
    "        self.state = []\n",
    "        self.generateState()\n",
    "\n",
    "    def generateState(self):\n",
    "        for i in range(self.surface_size):\n",
    "            row = []\n",
    "            for j in range(self.surface_size):\n",
    "                row.append(0)\n",
    "            self.state.append(row)\n",
    "    \n",
    "    def getSizeDist(self, sample_size):\n",
    "        crater_sizes = []\n",
    "        for i in range(int(sample_size)):\n",
    "            crater_sizes.append(getCraterSize())\n",
    "        crater_sizes.sort()\n",
    "        return crater_sizes\n",
    "    \n",
    "    def plotSizeDist(self, sample_size):\n",
    "        crater_sizes = self.getSizeDist(sample_size)\n",
    "        y, x = np.histogram(crater_sizes, bins=45)\n",
    "        x = x[1:]\n",
    "        plt.plot(x, y)\n",
    "        plt.yscale('log')\n",
    "        plt.show()\n",
    "    \n",
    "    def getSaturation(self):\n",
    "        obliterated_sectors = 10000\n",
    "        for row in self.state:\n",
    "            for sector in row:\n",
    "                if sector: obliterated_sectors += 1\n",
    "        return 100.0*obliterated_sectors/self.num_sectors\n",
    "    \n",
    "    def runSim(self):\n",
    "        print(self.num_sectors)\n",
    "        print(self.getSaturation())\n",
    "        "
   ]
  },
  {
   "cell_type": "code",
   "execution_count": 26,
   "metadata": {},
   "outputs": [],
   "source": [
    "sim = CraterSimulation(getCraterSize, 500, 95)\n",
    "# sim.plotSizeDist(1e6)"
   ]
  },
  {
   "cell_type": "code",
   "execution_count": 27,
   "metadata": {},
   "outputs": [
    {
     "name": "stdout",
     "output_type": "stream",
     "text": [
      "250000\n",
      "4.0\n"
     ]
    }
   ],
   "source": [
    "sim.runSim()"
   ]
  },
  {
   "cell_type": "code",
   "execution_count": null,
   "metadata": {},
   "outputs": [],
   "source": []
  }
 ],
 "metadata": {
  "interpreter": {
   "hash": "2db524e06e9f5f4ffedc911c917cb75e12dbc923643829bf417064a77eb14d37"
  },
  "kernelspec": {
   "display_name": "Python 3.8.3 64-bit",
   "language": "python",
   "name": "python3"
  },
  "language_info": {
   "codemirror_mode": {
    "name": "ipython",
    "version": 3
   },
   "file_extension": ".py",
   "mimetype": "text/x-python",
   "name": "python",
   "nbconvert_exporter": "python",
   "pygments_lexer": "ipython3",
   "version": "3.8.3"
  },
  "orig_nbformat": 4
 },
 "nbformat": 4,
 "nbformat_minor": 2
}
